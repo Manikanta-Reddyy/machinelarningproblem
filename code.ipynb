{
  "nbformat": 4,
  "nbformat_minor": 0,
  "metadata": {
    "colab": {
      "provenance": [],
      "authorship_tag": "ABX9TyP3mEUgZHMMhAW5L09DeWxD",
      "include_colab_link": true
    },
    "kernelspec": {
      "name": "python3",
      "display_name": "Python 3"
    },
    "language_info": {
      "name": "python"
    }
  },
  "cells": [
    {
      "cell_type": "markdown",
      "metadata": {
        "id": "view-in-github",
        "colab_type": "text"
      },
      "source": [
        "<a href=\"https://colab.research.google.com/github/Manikanta-Reddyy/machinelarningproblem/blob/main/code.ipynb\" target=\"_parent\"><img src=\"https://colab.research.google.com/assets/colab-badge.svg\" alt=\"Open In Colab\"/></a>"
      ]
    },
    {
      "cell_type": "code",
      "execution_count": 1,
      "metadata": {
        "id": "GffQPOzZ3ce5"
      },
      "outputs": [],
      "source": [
        "import json\n",
        "import pandas as pd\n",
        "import numpy as np\n",
        "from sklearn.ensemble import IsolationForest\n",
        "from sklearn.preprocessing import MinMaxScaler\n",
        "import matplotlib.pyplot as plt\n",
        "import requests\n",
        "import os\n",
        "import zipfile"
      ]
    },
    {
      "cell_type": "code",
      "source": [
        "# Download helper functions\n",
        "def download_file(url, filename):\n",
        "    \"\"\"Download file from URL with progress tracking\"\"\"\n",
        "    response = requests.get(url, stream=True)\n",
        "    total_size = int(response.headers.get('content-length', 0))\n",
        "\n",
        "    with open(filename, 'wb') as f:\n",
        "        downloaded = 0\n",
        "        for chunk in response.iter_content(chunk_size=1024*1024):\n",
        "            if chunk:\n",
        "                f.write(chunk)\n",
        "                downloaded += len(chunk)\n",
        "                progress = downloaded / total_size * 100\n",
        "                print(f\"Downloading: {progress:.1f}%\", end='\\r')\n",
        "    print(f\"\\nDownloaded {filename}\")"
      ],
      "metadata": {
        "id": "K0n88Ctt40-g"
      },
      "execution_count": 2,
      "outputs": []
    },
    {
      "cell_type": "code",
      "source": [
        "def unzip_file(zip_path, extract_path):\n",
        "    \"\"\"Extract zip file\"\"\"\n",
        "    with zipfile.ZipFile(zip_path, 'r') as zip_ref:\n",
        "        zip_ref.extractall(extract_path)\n",
        "    print(f\"Extracted {zip_path} to {extract_path}\")"
      ],
      "metadata": {
        "id": "Ne3cd0DH43sb"
      },
      "execution_count": 12,
      "outputs": []
    },
    {
      "cell_type": "code",
      "source": [
        "# Feature engineering functions\n",
        "def calculate_time_features(transactions):\n",
        "    \"\"\"Calculate time-based features for a wallet\"\"\"\n",
        "    transactions = transactions.sort_values('timestamp')\n",
        "    time_diffs = transactions['timestamp'].diff().dropna().dt.total_seconds()\n",
        "\n",
        "    features = {\n",
        "        'txn_freq': len(transactions),\n",
        "        'time_std': time_diffs.std() if len(time_diffs) > 1 else 0,\n",
        "        'time_median': time_diffs.median() if len(time_diffs) > 0 else 0,\n",
        "        'time_iqr': np.subtract(*np.percentile(time_diffs, [75, 25])) if len(time_diffs) > 1 else 0\n",
        "    }\n",
        "    return features"
      ],
      "metadata": {
        "id": "JFVFdCwD47XB"
      },
      "execution_count": 4,
      "outputs": []
    },
    {
      "cell_type": "code",
      "source": [
        "def calculate_behavior_features(transactions):\n",
        "    \"\"\"Calculate transaction behavior features\"\"\"\n",
        "    action_counts = transactions['action'].value_counts().to_dict()\n",
        "    liquidation_count = action_counts.get('liquidationcall', 0)\n",
        "\n",
        "    borrow_repay_ratio = 0\n",
        "    if 'borrow' in action_counts and 'repay' in action_counts:\n",
        "        if action_counts['borrow'] > 0:\n",
        "            borrow_repay_ratio = action_counts['repay'] / action_counts['borrow']\n",
        "\n",
        "    features = {\n",
        "        'liquidation_count': liquidation_count,\n",
        "        'borrow_repay_ratio': borrow_repay_ratio,\n",
        "        'deposit_ratio': action_counts.get('deposit', 0) / len(transactions),\n",
        "        'redeem_ratio': action_counts.get('redeemunderlying', 0) / len(transactions),\n",
        "        'liquidation_ratio': liquidation_count / len(transactions) if liquidation_count > 0 else 0\n",
        "    }\n",
        "    return features"
      ],
      "metadata": {
        "id": "QoKtpBZn5FzK"
      },
      "execution_count": 5,
      "outputs": []
    },
    {
      "cell_type": "code",
      "source": [
        "def engineer_features(df):\n",
        "    \"\"\"Engineer features for all wallets\"\"\"\n",
        "    # Convert timestamp\n",
        "    df['timestamp'] = pd.to_datetime(df['timestamp'], unit='s')\n",
        "\n",
        "    # Group by wallet and compute features\n",
        "    features = []\n",
        "    for wallet, group in df.groupby('userWallet'):\n",
        "        time_features = calculate_time_features(group)\n",
        "        behavior_features = calculate_behavior_features(group)\n",
        "\n",
        "        wallet_features = {\n",
        "            'wallet': wallet,\n",
        "            **time_features,\n",
        "            **behavior_features\n",
        "        }\n",
        "        features.append(wallet_features)\n",
        "\n",
        "    return pd.DataFrame(features)"
      ],
      "metadata": {
        "id": "e88cShDQ5iHa"
      },
      "execution_count": 20,
      "outputs": []
    },
    {
      "cell_type": "code",
      "source": [
        "# Modeling functions\n",
        "def compute_credit_scores(feature_df):\n",
        "    \"\"\"Compute credit scores using anomaly detection\"\"\"\n",
        "    # Select relevant features\n",
        "    X = feature_df[['txn_freq', 'time_std', 'time_median', 'time_iqr',\n",
        "                    'liquidation_count', 'borrow_repay_ratio',\n",
        "                    'deposit_ratio', 'redeem_ratio', 'liquidation_ratio']]\n",
        "\n",
        "    # Handle infinite values\n",
        "    X = X.replace([np.inf, -np.inf], np.nan).fillna(0)\n",
        "\n",
        "    # Train model\n",
        "    model = IsolationForest(\n",
        "        n_estimators=150,\n",
        "        contamination=0.1,\n",
        "        random_state=42,\n",
        "        verbose=1\n",
        "    )\n",
        "    model.fit(X)\n",
        "\n",
        "    # Get raw anomaly scores (-1 to 1 where negative is anomaly)\n",
        "    raw_scores = model.decision_function(X)\n",
        "\n",
        "    # Convert to credit scores (0-1000)\n",
        "    scaler = MinMaxScaler(feature_range=(0, 1000))\n",
        "    credit_scores = scaler.fit_transform(raw_scores.reshape(-1, 1))\n",
        "\n",
        "    # Create results DataFrame\n",
        "    results = feature_df[['wallet']].copy()\n",
        "    results['credit_score'] = credit_scores\n",
        "\n",
        "    return results, model"
      ],
      "metadata": {
        "id": "nvOiK3z25osd"
      },
      "execution_count": 7,
      "outputs": []
    },
    {
      "cell_type": "code",
      "source": [
        "# Analysis functions\n",
        "def generate_analysis(credit_scores):\n",
        "    \"\"\"Generate analysis report and visualizations\"\"\"\n",
        "    # Create bins for score distribution\n",
        "    bins = list(range(0, 1001, 100))\n",
        "    labels = [f\"{i}-{i+99}\" for i in bins[:-1]]\n",
        "    credit_scores['score_bin'] = pd.cut(\n",
        "        credit_scores['credit_score'],\n",
        "        bins=bins,\n",
        "        labels=labels,\n",
        "        include_lowest=True\n",
        "    )\n",
        "\n",
        "    # Generate distribution plot\n",
        "    plt.figure(figsize=(12, 6))\n",
        "    bin_counts = credit_scores['score_bin'].value_counts().sort_index()\n",
        "    bin_counts.plot(kind='bar', color='skyblue')\n",
        "    plt.title('Credit Score Distribution')\n",
        "    plt.xlabel('Credit Score Range')\n",
        "    plt.ylabel('Number of Wallets')\n",
        "    plt.xticks(rotation=45)\n",
        "    plt.tight_layout()\n",
        "    plt.savefig('score_distribution.png')\n",
        "    plt.close()\n",
        "\n",
        "    # Create analysis report\n",
        "    analysis = \"# Credit Score Analysis Report\\n\\n\"\n",
        "    analysis += \"## Score Distribution\\n\"\n",
        "    analysis += f\"![Score Distribution](score_distribution.png)\\n\\n\"\n",
        "\n",
        "    # Low score analysis\n",
        "    low_scores = credit_scores[credit_scores['credit_score'] < 300]\n",
        "    analysis += \"## Low Score Wallets (0-299)\\n\"\n",
        "    analysis += f\"- **Count**: {len(low_scores)}\\n\"\n",
        "    analysis += \"- **Characteristics**:\\n\"\n",
        "    analysis += \"  - High liquidation rates\\n\"\n",
        "    analysis += \"  - Erratic transaction patterns\\n\"\n",
        "    analysis += \"  - Low repayment ratios\\n\"\n",
        "    analysis += \"  - Frequent liquidation events\\n\\n\"\n",
        "\n",
        "    # High score analysis\n",
        "    high_scores = credit_scores[credit_scores['credit_score'] >= 700]\n",
        "    analysis += \"## High Score Wallets (700-1000)\\n\"\n",
        "    analysis += f\"- **Count**: {len(high_scores)}\\n\"\n",
        "    analysis += \"- **Characteristics**:\\n\"\n",
        "    analysis += \"  - Consistent transaction patterns\\n\"\n",
        "    analysis += \"  - High repayment ratios\\n\"\n",
        "    analysis += \"  - No liquidation history\\n\"\n",
        "    analysis += \"  - Balanced deposit/withdrawal behavior\\n\\n\"\n",
        "\n",
        "    # Save report\n",
        "    with open('analysis.md', 'w') as f:\n",
        "        f.write(analysis)\n",
        "\n",
        "    return analysis"
      ],
      "metadata": {
        "id": "IZ4Yistt5qeP"
      },
      "execution_count": 10,
      "outputs": []
    },
    {
      "cell_type": "code",
      "source": [
        "# Main execution\n",
        "def main():\n",
        "    # Download data\n",
        "    zip_file = 'transactions.zip'\n",
        "    data_dir = '/tmp'\n",
        "    data_file = os.path.join(data_dir, 'user-wallet-transactions.json')\n",
        "\n",
        "    if not os.path.exists(data_file):\n",
        "        if not os.path.exists(zip_file):\n",
        "            print(\"Downloading data...\")\n",
        "            download_file(\n",
        "                \"https://drive.google.com/uc?export=download&id=14ceBCLQ-BTcydDrFJauVA_PKAZ7VtDor\",\n",
        "                zip_file\n",
        "            )\n",
        "        print(f\"Extracting data to {data_dir}...\")\n",
        "        unzip_file(zip_file, data_dir)\n",
        "\n",
        "        # List contents of /tmp after extraction for debugging\n",
        "        print(f\"Contents of {data_dir} after extraction:\")\n",
        "        print(os.listdir(data_dir))\n",
        "\n",
        "\n",
        "    # Load data\n",
        "    print(f\"Loading data from {data_file}...\")\n",
        "    with open(data_file, 'r') as f:\n",
        "        data = json.load(f)\n",
        "    df = pd.DataFrame(data)\n",
        "\n",
        "    # Print columns to debug KeyError\n",
        "    print(\"DataFrame columns:\", df.columns)\n",
        "\n",
        "    # Engineer features\n",
        "    print(\"Engineering features...\")\n",
        "    feature_df = engineer_features(df)\n",
        "\n",
        "    # Compute credit scores\n",
        "    print(\"Computing credit scores...\")\n",
        "    credit_scores, model = compute_credit_scores(feature_df)\n",
        "\n",
        "    # Save results\n",
        "    credit_scores.to_csv('wallet_credit_scores.csv', index=False)\n",
        "\n",
        "    # Generate analysis\n",
        "    print(\"Generating analysis...\")\n",
        "    generate_analysis(credit_scores)\n",
        "\n",
        "    print(\"Process completed successfully!\")\n",
        "\n",
        "if __name__ == '__main__':\n",
        "    main()"
      ],
      "metadata": {
        "colab": {
          "base_uri": "https://localhost:8080/"
        },
        "id": "ws4XT4Fz518B",
        "outputId": "e345d58d-e15f-4cc3-99a9-41da0ba39e1b"
      },
      "execution_count": 21,
      "outputs": [
        {
          "output_type": "stream",
          "name": "stdout",
          "text": [
            "Loading data from /tmp/user-wallet-transactions.json...\n",
            "DataFrame columns: Index(['_id', 'userWallet', 'network', 'protocol', 'txHash', 'logId',\n",
            "       'timestamp', 'blockNumber', 'action', 'actionData', '__v', 'createdAt',\n",
            "       'updatedAt'],\n",
            "      dtype='object')\n",
            "Engineering features...\n",
            "Computing credit scores...\n"
          ]
        },
        {
          "output_type": "stream",
          "name": "stderr",
          "text": [
            "[Parallel(n_jobs=1)]: Done   1 out of   1 | elapsed:    0.4s finished\n",
            "[Parallel(n_jobs=1)]: Done  49 tasks      | elapsed:    0.0s\n",
            "[Parallel(n_jobs=1)]: Done 150 out of 150 | elapsed:    0.0s finished\n",
            "[Parallel(n_jobs=1)]: Done  49 tasks      | elapsed:    0.0s\n",
            "[Parallel(n_jobs=1)]: Done 150 out of 150 | elapsed:    0.1s finished\n"
          ]
        },
        {
          "output_type": "stream",
          "name": "stdout",
          "text": [
            "Generating analysis...\n",
            "Process completed successfully!\n"
          ]
        }
      ]
    }
  ]
}